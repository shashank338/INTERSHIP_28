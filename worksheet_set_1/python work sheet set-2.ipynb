{
 "cells": [
  {
   "cell_type": "markdown",
   "id": "717441c5",
   "metadata": {},
   "source": [
    "# Q11 to Q15 are programming questions."
   ]
  },
  {
   "cell_type": "markdown",
   "id": "8a0ba99e",
   "metadata": {},
   "source": [
    "# 11.Write a python program to find the factorial of a number"
   ]
  },
  {
   "cell_type": "code",
   "execution_count": 65,
   "id": "8f05a1c4",
   "metadata": {},
   "outputs": [
    {
     "name": "stdout",
     "output_type": "stream",
     "text": [
      "enter the number:8\n",
      "Factorial of 8 is 40320\n"
     ]
    }
   ],
   "source": [
    "#exmaple:- factorial of a number using math\n",
    "#factorial of given number \n",
    "\n",
    "import math\n",
    "def fact(n):\n",
    "    return(math.factorial(n))\n",
    "num =int(input(\"enter the number:\"))\n",
    "f = fact(num)\n",
    "print(\"Factorial of\",num,\"is\",f)"
   ]
  },
  {
   "cell_type": "code",
   "execution_count": 10,
   "id": "7cf8fee6",
   "metadata": {},
   "outputs": [
    {
     "name": "stdout",
     "output_type": "stream",
     "text": [
      "enter a number:7\n",
      "the Factorial of 7 is 5040\n"
     ]
    }
   ],
   "source": [
    "#example:-factorial of a number using LOOP \n",
    "\n",
    "num = int(input(\"enter a number:\"))\n",
    "factorial = 1\n",
    "if num<0:\n",
    "    print(\"Factorial does not exist for negative numbers\")\n",
    "elif num == 0:\n",
    "    print(\"the factorial of 0 is 1\")\n",
    "else:\n",
    "    for i in range(1,num+1):\n",
    "        factorial = factorial* i\n",
    "    print(\"the Factorial of\",num,\"is\",factorial)\n",
    "\n",
    "    \n",
    "    \n",
    "    \n",
    "    "
   ]
  },
  {
   "cell_type": "code",
   "execution_count": 5,
   "id": "10dea627",
   "metadata": {},
   "outputs": [
    {
     "name": "stdout",
     "output_type": "stream",
     "text": [
      "enter a number:6\n",
      "the Factorial of 6 is 1\n",
      "the Factorial of 6 is 2\n",
      "the Factorial of 6 is 6\n",
      "the Factorial of 6 is 24\n",
      "the Factorial of 6 is 120\n",
      "the Factorial of 6 is 720\n"
     ]
    }
   ],
   "source": [
    "#example:-factorial of a number using LOOP \n",
    "num = int(input(\"enter a number:\"))\n",
    "factorial = 1\n",
    "if num<0:\n",
    "    print(\"Factorial does not exist for negative numbers\")\n",
    "elif num == 0:\n",
    "    print(\"the factorial of 0 is 1\")\n",
    "else:\n",
    "    for i in range(1,num+1):\n",
    "        factorial = factorial*i\n",
    "        print(\"the Factorial of\",num,\"is\",factorial)\n",
    "\n",
    "    \n",
    "    \n",
    "    "
   ]
  },
  {
   "cell_type": "markdown",
   "id": "9862a561",
   "metadata": {},
   "source": [
    "# 12.Write a python program to find whether a number is prime or composite."
   ]
  },
  {
   "cell_type": "code",
   "execution_count": 7,
   "id": "caad12a3",
   "metadata": {},
   "outputs": [
    {
     "name": "stdout",
     "output_type": "stream",
     "text": [
      "enter a number:0\n",
      "0 is a neither prime NOR composite number\n"
     ]
    }
   ],
   "source": [
    "#exmaple:- to find number is prime or composite using loop\n",
    "\n",
    "num = int(input(\"enter a number:\"))\n",
    "if num > 1:\n",
    "    for i in range(2,num):\n",
    "        if(num % i) == 0:\n",
    "            print(num,\"is NoT a prime number\")\n",
    "            break\n",
    "    else:\n",
    "        print(num, \"is NOT a prime number\")\n",
    "elif num == 0 or 1:\n",
    "    print(num, \"is a neither prime NOR composite number\")\n",
    "else:\n",
    "    print(num, \"is NOT a prime number it is a COMPOSITE number\")\n",
    "\n"
   ]
  },
  {
   "cell_type": "code",
   "execution_count": 78,
   "id": "d1835976",
   "metadata": {},
   "outputs": [
    {
     "name": "stdout",
     "output_type": "stream",
     "text": [
      "enter a number:7\n",
      "7 is a prime number\n"
     ]
    }
   ],
   "source": [
    "#exmaple:- to find number is prime or composite using loop\n",
    "\n",
    "num = int(input(\"enter a number:\"))\n",
    "if num > 1:\n",
    "    for i in range(2,num):\n",
    "        if(num % i) == 0:\n",
    "            print(num,\"is NoT a prime number\")\n",
    "            break\n",
    "    else:\n",
    "        print(num, \"is a prime number\")\n",
    "elif num == 0 or 1:\n",
    "    print(num, \"is a neither prime NOR composite number\")\n",
    "else:\n",
    "    print(num, \"is NOT a prime number it is a COMPOSITE number\")\n",
    "\n"
   ]
  },
  {
   "cell_type": "markdown",
   "id": "944daafd",
   "metadata": {},
   "source": [
    "# 13.Write a python program to check whether a given string is palindrome or not."
   ]
  },
  {
   "cell_type": "code",
   "execution_count": 117,
   "id": "594ea5a8",
   "metadata": {},
   "outputs": [
    {
     "name": "stdout",
     "output_type": "stream",
     "text": [
      "ENTER the string to check if it is a palindrome:wow\n",
      "The string is a palindrome.\n"
     ]
    }
   ],
   "source": [
    "#using reversed function \n",
    "\n",
    "str_1 = input (\"ENTER the string to check if it is a palindrome:\")\n",
    "str_1 = str_1.casefold ()\n",
    "rev_str = reversed (str_1)\n",
    "if list (str_1) == list (rev_str):\n",
    "             print(\"The string is a palindrome.\")\n",
    "else:\n",
    "    print(\"The string is not a polindrome.\")"
   ]
  },
  {
   "cell_type": "code",
   "execution_count": 118,
   "id": "89607792",
   "metadata": {},
   "outputs": [
    {
     "name": "stdout",
     "output_type": "stream",
     "text": [
      "ENTER the string to check if it is a palindrome:shashank\n",
      "The string is not a polindrome.\n"
     ]
    }
   ],
   "source": [
    "str_1 = input (\"ENTER the string to check if it is a palindrome:\")\n",
    "str_1 = str_1.casefold ()\n",
    "rev_str = reversed (str_1)\n",
    "if list (str_1) == list (rev_str):\n",
    "             print(\"The string is a palindrome.\")\n",
    "else:\n",
    "    print(\"The string is not a polindrome.\")"
   ]
  },
  {
   "cell_type": "code",
   "execution_count": 33,
   "id": "e51891f9",
   "metadata": {},
   "outputs": [
    {
     "name": "stdout",
     "output_type": "stream",
     "text": [
      "Enter a string.anna\n",
      "Yes, it is a palindrome.\n"
     ]
    }
   ],
   "source": [
    "#usning length function \n",
    "def check_palin (str):\n",
    "          for i in range (0, int(len(str)/2)):\n",
    "                         if str [i] != str[len(str) -i-1]:\n",
    "                                        return False\n",
    "                         return True\n",
    "str_1 = input (\"Enter a string.\")\n",
    "ans = check_palin (str_1)\n",
    "if (ans):\n",
    "            print (\"Yes, it is a palindrome.\")\n",
    "else:\n",
    "            print (\"No, it is not a palindrome.\")\n",
    "        "
   ]
  },
  {
   "cell_type": "code",
   "execution_count": 116,
   "id": "017c2b85",
   "metadata": {},
   "outputs": [
    {
     "name": "stdout",
     "output_type": "stream",
     "text": [
      "Enter a string.shashank\n",
      "No, it is not a palindrome.\n"
     ]
    }
   ],
   "source": [
    "def check_palin (str):\n",
    "          for i in range (0, int(len(str)/2)):\n",
    "                         if str [i] != str[len(str) -i-1]:\n",
    "                                        return False\n",
    "                         return True\n",
    "str_1 = input (\"Enter a string.\")\n",
    "ans = check_palin (str_1)\n",
    "if (ans):\n",
    "            print (\"Yes, it is a palindrome.\")\n",
    "else:\n",
    "            print (\"No, it is not a palindrome.\")"
   ]
  },
  {
   "cell_type": "markdown",
   "id": "8345fe82",
   "metadata": {},
   "source": [
    "# 14.Write a Python program to get the third side of right-angled triangle from two given sides."
   ]
  },
  {
   "cell_type": "code",
   "execution_count": 141,
   "id": "0ae8b193",
   "metadata": {},
   "outputs": [
    {
     "name": "stdout",
     "output_type": "stream",
     "text": [
      "Hypotenuse = 10.295630140987\n",
      "Adjacent = 7.483314773547883\n",
      "Opposite = 7.483314773547883\n",
      "You know the answer!\n"
     ]
    }
   ],
   "source": [
    "def pythagoras (opposite_side,adjacent_side,hypotenuse):\n",
    "        if opposite_side == str(\"x\"):\n",
    "            return (\"Opposite = \" + str(((hypotenuse**2) - (adjacent_side**2))**0.5))\n",
    "        elif adjacent_side == str(\"x\"):\n",
    "            return (\"Adjacent = \" + str(((hypotenuse**2) -(opposite_side**2))**0.5))\n",
    "        elif hypotenuse == str(\"x\"):\n",
    "            return (\"Hypotenuse = \" + str(((opposite_side**2) + (adjacent_side**2))**0.5))\n",
    "        else:\n",
    "            return \"You know the answer!\"\n",
    "\n",
    "print(pythagoras(5,9,'x'))\n",
    "print(pythagoras(5,'x',9))\n",
    "print(pythagoras('x',5,9))\n",
    "print(pythagoras(5,5,9))"
   ]
  },
  {
   "cell_type": "markdown",
   "id": "5e62de8b",
   "metadata": {},
   "source": [
    "# 15.Write a python program to print the frequency of each of the characters present in a given string."
   ]
  },
  {
   "cell_type": "code",
   "execution_count": 32,
   "id": "c3d7b7cf",
   "metadata": {},
   "outputs": [
    {
     "name": "stdout",
     "output_type": "stream",
     "text": [
      "Enter the string: shasank\n",
      "{'s': 1}\n",
      "{'s': 1, 'h': 1}\n",
      "{'s': 1, 'h': 1, 'a': 1}\n",
      "{'s': 2, 'h': 1, 'a': 2, 'n': 1}\n",
      "{'s': 2, 'h': 1, 'a': 2, 'n': 1, 'k': 1}\n"
     ]
    }
   ],
   "source": [
    "str_1=input(\"Enter the string: \")\n",
    "\n",
    "Freq={}\n",
    "\n",
    "for i in str_1:\n",
    "    if i in Freq:\n",
    "        \n",
    "        Freq[i] +=1\n",
    "    else:\n",
    "        Freq[i]=1\n",
    "        print(Freq)\n",
    "    "
   ]
  },
  {
   "cell_type": "code",
   "execution_count": null,
   "id": "72255a1f",
   "metadata": {},
   "outputs": [],
   "source": []
  },
  {
   "cell_type": "code",
   "execution_count": null,
   "id": "7ee9a860",
   "metadata": {},
   "outputs": [],
   "source": []
  }
 ],
 "metadata": {
  "kernelspec": {
   "display_name": "Python 3 (ipykernel)",
   "language": "python",
   "name": "python3"
  },
  "language_info": {
   "codemirror_mode": {
    "name": "ipython",
    "version": 3
   },
   "file_extension": ".py",
   "mimetype": "text/x-python",
   "name": "python",
   "nbconvert_exporter": "python",
   "pygments_lexer": "ipython3",
   "version": "3.9.7"
  }
 },
 "nbformat": 4,
 "nbformat_minor": 5
}
